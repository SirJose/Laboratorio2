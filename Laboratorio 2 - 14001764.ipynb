{
 "cells": [
  {
   "cell_type": "markdown",
   "id": "104cd9f9-ec68-47ad-9bb6-225a1a0ebe83",
   "metadata": {},
   "source": [
    "# <center>Laboratorio 2</center>\n",
    "\n",
    "#### ***Nombre***: Jose Eduardo Calderon Lopez\n",
    "#### ***Carnet***: 14001764\n",
    "\n",
    "<br>\n",
    "<hr>\n",
    "<br>"
   ]
  },
  {
   "cell_type": "markdown",
   "id": "139ed845-40e4-4309-b3d1-efbda7989148",
   "metadata": {
    "tags": []
   },
   "source": [
    "# Parte 1"
   ]
  },
  {
   "cell_type": "markdown",
   "id": "ec6ce4aa-f13a-4bad-a62a-9f65b987a8cc",
   "metadata": {
    "tags": []
   },
   "source": [
    "## Ejercicio 1"
   ]
  },
  {
   "cell_type": "code",
   "execution_count": 1,
   "id": "aa5277c2-c3f0-4672-8a1c-7721a3b97a3e",
   "metadata": {
    "tags": []
   },
   "outputs": [
    {
     "name": "stdin",
     "output_type": "stream",
     "text": [
      "Ingrese segundos: 3780\n"
     ]
    },
    {
     "name": "stdout",
     "output_type": "stream",
     "text": [
      "Horas: 1, Minutos: 3, Segundos: 0\n"
     ]
    }
   ],
   "source": [
    "try:\n",
    "    segundos = int(input(\"Ingrese segundos:\"))\n",
    "except:\n",
    "    print(\"Input invalido\")\n",
    "    \n",
    "horas = segundos // 3600\n",
    "segundos = segundos % 3600\n",
    "\n",
    "minutos = segundos // 60\n",
    "segundos = segundos % 60\n",
    "\n",
    "print(f'Horas: {horas}, Minutos: {minutos}, Segundos: {segundos}')"
   ]
  },
  {
   "cell_type": "markdown",
   "id": "0d6c66ec-4d9e-4689-97c6-9b911c85d60e",
   "metadata": {},
   "source": [
    "## Ejercicio 2"
   ]
  },
  {
   "cell_type": "code",
   "execution_count": 8,
   "id": "22aa18bf-1d4e-4ecd-9435-9db81611f29b",
   "metadata": {
    "tags": []
   },
   "outputs": [
    {
     "name": "stdin",
     "output_type": "stream",
     "text": [
      "Ingrese número: 4\n",
      "Ingrese símbolo: *\n"
     ]
    },
    {
     "name": "stdout",
     "output_type": "stream",
     "text": [
      "*    ****    ****    *\n",
      "**    ***    ***    **\n",
      "***    **    **    ***\n",
      "****    *    *    ****\n"
     ]
    }
   ],
   "source": [
    "try:\n",
    "    numero = int(input(\"Ingrese número:\"))\n",
    "    simbolo = input(\"Ingrese símbolo:\")\n",
    "except:\n",
    "    print(\"Error: Input inválido\")\n",
    "    \n",
    "if(numero<1 or numero>20) :\n",
    "    print(\"Error: El número debe estar entre 1 y 20.\")\n",
    "elif(len(simbolo) != 1):\n",
    "    print(\"Error: Debe ingresar un unico carácter.\")\n",
    "else:\n",
    "    for i in range(1,numero+1):\n",
    "        print(simbolo*i + ' '*numero + simbolo*(numero+1-i) + \" \"*numero + simbolo*(numero+1-i) + \" \"*numero + simbolo*i)\n",
    "        "
   ]
  },
  {
   "cell_type": "code",
   "execution_count": null,
   "id": "50654683-160d-4fc8-a466-d5493f2f8789",
   "metadata": {},
   "outputs": [],
   "source": []
  },
  {
   "cell_type": "code",
   "execution_count": null,
   "id": "0f3cb7c0-1d2a-41f0-b659-a97d17d7c40a",
   "metadata": {},
   "outputs": [],
   "source": []
  },
  {
   "cell_type": "code",
   "execution_count": null,
   "id": "f11b0010-01be-4a51-b99b-4d65e3de7565",
   "metadata": {},
   "outputs": [],
   "source": []
  }
 ],
 "metadata": {
  "kernelspec": {
   "display_name": "Python 3 (ipykernel)",
   "language": "python",
   "name": "python3"
  },
  "language_info": {
   "codemirror_mode": {
    "name": "ipython",
    "version": 3
   },
   "file_extension": ".py",
   "mimetype": "text/x-python",
   "name": "python",
   "nbconvert_exporter": "python",
   "pygments_lexer": "ipython3",
   "version": "3.11.5"
  }
 },
 "nbformat": 4,
 "nbformat_minor": 5
}

{
 "cells": [
  {
   "cell_type": "markdown",
   "id": "104cd9f9-ec68-47ad-9bb6-225a1a0ebe83",
   "metadata": {},
   "source": [
    "# <center>Laboratorio 2</center>\n",
    "\n",
    "#### ***Nombre***: Jose Eduardo Calderon Lopez\n",
    "#### ***Carnet***: 14001764\n",
    "\n",
    "<br>\n",
    "<hr>\n",
    "<br>"
   ]
  },
  {
   "cell_type": "markdown",
   "id": "139ed845-40e4-4309-b3d1-efbda7989148",
   "metadata": {
    "tags": []
   },
   "source": [
    "# Parte 1"
   ]
  },
  {
   "cell_type": "markdown",
   "id": "ec6ce4aa-f13a-4bad-a62a-9f65b987a8cc",
   "metadata": {
    "tags": []
   },
   "source": [
    "## Ejercicio 1"
   ]
  },
  {
   "cell_type": "code",
   "execution_count": 9,
   "id": "aa5277c2-c3f0-4672-8a1c-7721a3b97a3e",
   "metadata": {
    "tags": []
   },
   "outputs": [
    {
     "name": "stdin",
     "output_type": "stream",
     "text": [
      "Ingrese segundos: 5871\n"
     ]
    },
    {
     "name": "stdout",
     "output_type": "stream",
     "text": [
      "Horas: 1, Minutos: 37, Segundos: 51\n"
     ]
    }
   ],
   "source": [
    "try:\n",
    "    segundos = int(input(\"Ingrese segundos:\"))\n",
    "except:\n",
    "    print(\"Input invalido\")\n",
    "    \n",
    "horas = segundos // 3600\n",
    "segundos = segundos % 3600\n",
    "\n",
    "minutos = segundos // 60\n",
    "segundos = segundos % 60\n",
    "\n",
    "print(f'Horas: {horas}, Minutos: {minutos}, Segundos: {segundos}')"
   ]
  },
  {
   "cell_type": "markdown",
   "id": "0d6c66ec-4d9e-4689-97c6-9b911c85d60e",
   "metadata": {},
   "source": [
    "## Ejercicio 2"
   ]
  },
  {
   "cell_type": "code",
   "execution_count": null,
   "id": "2db3b180-cc8b-492a-90f9-19dbfeeb3bb2",
   "metadata": {},
   "outputs": [],
   "source": []
  }
 ],
 "metadata": {
  "kernelspec": {
   "display_name": "Python 3 (ipykernel)",
   "language": "python",
   "name": "python3"
  },
  "language_info": {
   "codemirror_mode": {
    "name": "ipython",
    "version": 3
   },
   "file_extension": ".py",
   "mimetype": "text/x-python",
   "name": "python",
   "nbconvert_exporter": "python",
   "pygments_lexer": "ipython3",
   "version": "3.11.5"
  }
 },
 "nbformat": 4,
 "nbformat_minor": 5
}

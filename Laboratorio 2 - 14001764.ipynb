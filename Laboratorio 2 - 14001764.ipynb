{
 "cells": [
  {
   "cell_type": "markdown",
   "id": "104cd9f9-ec68-47ad-9bb6-225a1a0ebe83",
   "metadata": {},
   "source": [
    "# <center>Laboratorio 2</center>\n",
    "\n",
    "#### ***Nombre***: Jose Eduardo Calderon Lopez\n",
    "#### ***Carnet***: 14001764\n",
    "\n",
    "<br>\n",
    "<hr>\n",
    "<br>"
   ]
  },
  {
   "cell_type": "markdown",
   "id": "139ed845-40e4-4309-b3d1-efbda7989148",
   "metadata": {
    "tags": []
   },
   "source": [
    "# Parte 1"
   ]
  },
  {
   "cell_type": "markdown",
   "id": "ec6ce4aa-f13a-4bad-a62a-9f65b987a8cc",
   "metadata": {
    "jp-MarkdownHeadingCollapsed": true,
    "tags": []
   },
   "source": [
    "## Ejercicio 1"
   ]
  },
  {
   "cell_type": "code",
   "execution_count": 1,
   "id": "aa5277c2-c3f0-4672-8a1c-7721a3b97a3e",
   "metadata": {
    "tags": []
   },
   "outputs": [
    {
     "name": "stdin",
     "output_type": "stream",
     "text": [
      "Ingrese segundos: 3780\n"
     ]
    },
    {
     "name": "stdout",
     "output_type": "stream",
     "text": [
      "Horas: 1, Minutos: 3, Segundos: 0\n"
     ]
    }
   ],
   "source": [
    "try:\n",
    "    segundos = int(input(\"Ingrese segundos:\"))\n",
    "except:\n",
    "    print(\"Input invalido\")\n",
    "    \n",
    "horas = segundos // 3600\n",
    "segundos = segundos % 3600\n",
    "\n",
    "minutos = segundos // 60\n",
    "segundos = segundos % 60\n",
    "\n",
    "print(f'Horas: {horas}, Minutos: {minutos}, Segundos: {segundos}')"
   ]
  },
  {
   "cell_type": "markdown",
   "id": "0d6c66ec-4d9e-4689-97c6-9b911c85d60e",
   "metadata": {
    "jp-MarkdownHeadingCollapsed": true,
    "tags": []
   },
   "source": [
    "## Ejercicio 2"
   ]
  },
  {
   "cell_type": "code",
   "execution_count": 85,
   "id": "22aa18bf-1d4e-4ecd-9435-9db81611f29b",
   "metadata": {
    "tags": []
   },
   "outputs": [
    {
     "name": "stdin",
     "output_type": "stream",
     "text": [
      "Ingrese número: 5\n",
      "Ingrese símbolo: *\n"
     ]
    },
    {
     "name": "stdout",
     "output_type": "stream",
     "text": [
      "*     *****     *****     *\n",
      "**     ****     ****     **\n",
      "***     ***     ***     ***\n",
      "****     **     **     ****\n",
      "*****     *     *     *****\n"
     ]
    }
   ],
   "source": [
    "\n",
    "\n",
    "# FUNCION\n",
    "def patrones(numero, simbolo):\n",
    "    if(numero<1 or numero>20) :\n",
    "        print(\"Error: El número debe estar entre 1 y 20.\")\n",
    "    elif(len(simbolo) != 1):\n",
    "        print(\"Error: Debe ingresar un unico carácter.\")\n",
    "    else:\n",
    "        for i in range(1,numero+1):\n",
    "            print(simbolo*i + ' '*numero + simbolo*(numero+1-i) + \" \"*numero + simbolo*(numero+1-i) + \" \"*numero + simbolo*i)\n",
    "     \n",
    "    \n",
    "# LLAMADA EJEMPLO\n",
    "try:\n",
    "    numero = int(input(\"Ingrese número:\"))\n",
    "    simbolo = input(\"Ingrese símbolo:\")\n",
    "except:\n",
    "    print(\"Error: Input inválido\")\n",
    "        \n",
    "patrones(numero, simbolo)"
   ]
  },
  {
   "cell_type": "markdown",
   "id": "3e2d82ec-d984-457e-8af0-6c1c408e0b4e",
   "metadata": {
    "jp-MarkdownHeadingCollapsed": true,
    "tags": []
   },
   "source": [
    "## Ejercicio 3"
   ]
  },
  {
   "cell_type": "code",
   "execution_count": 81,
   "id": "0f3cb7c0-1d2a-41f0-b659-a97d17d7c40a",
   "metadata": {
    "tags": []
   },
   "outputs": [
    {
     "name": "stdout",
     "output_type": "stream",
     "text": [
      "Ingrese su fecha de nacimiento\n"
     ]
    },
    {
     "name": "stdin",
     "output_type": "stream",
     "text": [
      "Día: 2\n",
      "Mes: 12\n",
      "Año: 1997\n"
     ]
    },
    {
     "name": "stdout",
     "output_type": "stream",
     "text": [
      "Edad: 26 años, 3 meses y 1 días.\n"
     ]
    }
   ],
   "source": [
    "from datetime import datetime, timedelta\n",
    "\n",
    "print(\"Ingrese su fecha de nacimiento\")\n",
    "validDate = False\n",
    "try:\n",
    "    bDay = int(input(\"Día:\"))\n",
    "    bMonth = int(input(\"Mes:\"))\n",
    "    bYear = int(input(\"Año:\"))\n",
    "    \n",
    "    if(bYear > datetime.now().year):\n",
    "        print(\"Error: Año inválido\")\n",
    "    elif(bMonth < 1 or bMonth > 12):\n",
    "        print(\"Error: Año inválido\")\n",
    "    elif(bDay <1 or bDay > 31):  \n",
    "        print(\"Error: Día inválido\")\n",
    "    else:\n",
    "        validDate = True\n",
    "except:\n",
    "    print(\"Error: Input inválido\") \n",
    "\n",
    "\n",
    "if(validDate):\n",
    "    birthday = datetime(bYear,bMonth,bDay)\n",
    "    today = datetime.now()\n",
    "\n",
    "    days = (today-birthday).days\n",
    "\n",
    "    years = days // 365\n",
    "    days = days % 365\n",
    "\n",
    "    months = days // 31\n",
    "    days = days % 31\n",
    "\n",
    "    print(f\"Edad: {years} años, {months} meses y {days} días.\")\n",
    "else: \n",
    "    print(\"No ingreso una fecha válida\")"
   ]
  },
  {
   "cell_type": "markdown",
   "id": "fc0c3634-9e4e-4e2c-b98a-a7d96b436c22",
   "metadata": {
    "jp-MarkdownHeadingCollapsed": true,
    "tags": []
   },
   "source": [
    "## Ejercicio 4"
   ]
  },
  {
   "cell_type": "code",
   "execution_count": 2,
   "id": "f3f24793-9f86-4b79-85a0-8f173be66f56",
   "metadata": {
    "tags": []
   },
   "outputs": [
    {
     "name": "stdout",
     "output_type": "stream",
     "text": [
      "102040570\n"
     ]
    }
   ],
   "source": [
    "\n",
    "# FUNCION\n",
    "def tuplaToString(tupla):\n",
    "    lista = [str(value) for value in list(tupla)]\n",
    "    return (''.join(lista))\n",
    "    \n",
    "# LLAMADA EJEMPLO\n",
    "ejemplo = (10,20,40,5,70)\n",
    "print(tuplaToString(ejemplo))"
   ]
  },
  {
   "cell_type": "markdown",
   "id": "0cd3ce46-89cb-4189-8e85-76699cc95b9a",
   "metadata": {
    "jp-MarkdownHeadingCollapsed": true,
    "tags": []
   },
   "source": [
    "## Ejercicio 5"
   ]
  },
  {
   "cell_type": "code",
   "execution_count": 37,
   "id": "c0bc92a5-48eb-47d4-983d-6b0aaeb964f1",
   "metadata": {
    "tags": []
   },
   "outputs": [
    {
     "name": "stdout",
     "output_type": "stream",
     "text": [
      "[('X',), ('a', 'b'), ('a', 'b', 'c'), 'd']\n"
     ]
    }
   ],
   "source": [
    "# FUNCION\n",
    "def deleteEmptyTuples(array):\n",
    "    # Quitamos tuplas vacias\n",
    "    lista = [value for value in array if len(value) > 0]\n",
    "    # Quitamos parentesis (solo de los que no son tuplas)\n",
    "    lista = list(map(lambda value: value[0] if (len(value) == 1 and not isinstance(value,tuple)) else value, lista))\n",
    "    return lista\n",
    "    \n",
    "# LLAMADA EJEMPLO\n",
    "ejemplo = [(),(),('X',), ('a','b'),('a', 'b', 'c'), ('d')]\n",
    "print(deleteEmptyTuples(ejemplo))"
   ]
  },
  {
   "cell_type": "markdown",
   "id": "9cb2bc86-1e62-41c9-97d5-d4d2158f988c",
   "metadata": {
    "jp-MarkdownHeadingCollapsed": true,
    "tags": []
   },
   "source": [
    "## Ejercicio 6"
   ]
  },
  {
   "cell_type": "code",
   "execution_count": 52,
   "id": "5e6a75cd-4190-4e9a-9a52-f2e8f546ea87",
   "metadata": {
    "tags": []
   },
   "outputs": [
    {
     "data": {
      "text/plain": [
       "(10.5, 44.0, 58.0)"
      ]
     },
     "execution_count": 52,
     "metadata": {},
     "output_type": "execute_result"
    }
   ],
   "source": [
    "import numpy as np\n",
    "\n",
    "# FUNCION\n",
    "def sumaTuplas(tupla):\n",
    "    lista = np.array(tupla)\n",
    "    lista = [value.mean() for value in lista]\n",
    "    return tuple(lista)\n",
    "    \n",
    "# LLAMADA EJEMPLO\n",
    "ejemplo = ((10, 10, 10, 12), (30, 45, 56, 45), (81, 80, 39, 32))\n",
    "sumaTuplas(ejemplo)"
   ]
  },
  {
   "cell_type": "markdown",
   "id": "abdb9436-5551-4ad2-bbb5-53555c193385",
   "metadata": {
    "jp-MarkdownHeadingCollapsed": true,
    "tags": []
   },
   "source": [
    "## Ejercicio 7"
   ]
  },
  {
   "cell_type": "code",
   "execution_count": null,
   "id": "1eef4bf0-9383-4514-8275-6e12b9df3298",
   "metadata": {
    "tags": []
   },
   "outputs": [],
   "source": [
    "\n",
    "# En este ejemplo existen las opciones 1, 2 y 3:\n",
    "#    1. Agregar nueva factura\n",
    "#    2. Pagar factura\n",
    "#    3. Terminar\n",
    "\n",
    "print(\"---------------------------------\")\n",
    "print(\"Escoja una opción:\")\n",
    "print(\"\\t1. Añadir nueva factura\")\n",
    "print(\"\\t2. Pagar factura\")\n",
    "print(\"\\t3. Terminar\")\n",
    "\n",
    "opcion = 1\n",
    "facturas = {}\n",
    "total = 0;\n",
    "pagado = 0;\n",
    "\n",
    "while opcion != 3:\n",
    "    try:\n",
    "        print(\"---------------------------------\")\n",
    "        opcion = int(input(\"Ingrese una opcion:\"))\n",
    "        \n",
    "        if(opcion != 1 and opcion != 2 and opcion != 3):\n",
    "            print(\"ERROR: Opción inválida.\")\n",
    "            \n",
    "        # Agregar factura\n",
    "        elif(opcion == 1):\n",
    "            try:\n",
    "                numFactura = int(input(\"Número de factura:\"))\n",
    "                costoFactura = float(input(\"Costo:\"))\n",
    "                print(\"\\n\")\n",
    "                \n",
    "                if(numFactura >= 1000 and numFactura <= 9999 and costoFactura >= 0):\n",
    "                    facturas[numFactura] = costoFactura\n",
    "                    total += costoFactura\n",
    "                    \n",
    "                    print(\"\\nFACTURAS:\")\n",
    "                    print(facturas)\n",
    "                else:\n",
    "                    print(\"ERROR: Número inválido.\")\n",
    "            except: \n",
    "                print(\"ERROR: Número inválido.\")\n",
    "                \n",
    "            print(\"\\n\")\n",
    "            print(f\"Cobrado hasta el momento: {pagado}\")\n",
    "            print(f\"Pendiente de cobro: {total}\")\n",
    "            print(\"\\n\")\n",
    "        # Pagar factura\n",
    "        elif (opcion == 2):\n",
    "            try:\n",
    "                numFactura = int(input(\"Número de factura:\"))\n",
    "                print(\"\\n\")\n",
    "                    \n",
    "                if(numFactura >= 1000 and numFactura <= 9999 and numFactura in facturas):\n",
    "                    pagado += facturas[numFactura]\n",
    "                    total -= facturas[numFactura]\n",
    "                    \n",
    "                    del facturas[numFactura]\n",
    "                    \n",
    "                    print(\"\\nFACTURAS:\")\n",
    "                    print(facturas)\n",
    "                    \n",
    "                else:\n",
    "                    print(\"ERROR: Número inválido.\")\n",
    "            except: \n",
    "                print(\"ERROR: Número inválido.\")\n",
    "                \n",
    "            print(\"\\n\")\n",
    "            print(f\"Cobrado hasta el momento: {pagado}\")\n",
    "            print(f\"Pendiente de cobro: {total}\")\n",
    "            print(\"\\n\")\n",
    "    except:\n",
    "        print(\"ERROR: Opción inválida.\")\n",
    "        "
   ]
  },
  {
   "cell_type": "markdown",
   "id": "0ccb66be-804d-46b9-9d7f-c9ce4a3648d6",
   "metadata": {},
   "source": [
    "\n",
    "## Ejercicio 8"
   ]
  },
  {
   "cell_type": "code",
   "execution_count": 51,
   "id": "a26c9c5d-6fe7-484a-9bb5-a647af321213",
   "metadata": {
    "tags": []
   },
   "outputs": [
    {
     "name": "stdout",
     "output_type": "stream",
     "text": [
      "P(A ∩ B) = 0.44\n",
      "P(A)P(B) = 0.37\n",
      "Por lo tanto, no son eventos independientes\n",
      "\n",
      "P(A ∪ B) = 0.77\n",
      "P(A) + P(B) = 0.77\n",
      "Por lo tanto, si se cumple la regla de la adición\n",
      "\n"
     ]
    }
   ],
   "source": [
    "import random\n",
    "\n",
    "# FUNCION QUE CREA BARAJA\n",
    "def crearBarajaPoker():\n",
    "    baraja = [['T','C','P','E'][value//13]+str(value%13+1).zfill(2) for value in range(0,52)]\n",
    "    return baraja\n",
    "\n",
    "\n",
    "# FUNCION QUE CREA UN SET (MANO) DE POKER\n",
    "def crearManoPoker(baraja):\n",
    "    len1 = random.randint(1,len(baraja))\n",
    "    len2 = random.randint(1,len(baraja))\n",
    "    \n",
    "    set1 = set(random.sample(baraja, len1))\n",
    "    set2 = set(random.sample(baraja, len2))\n",
    "    \n",
    "    return set1, set2\n",
    "\n",
    "\n",
    "# FUNCION PROBABILIDAD DE INTERSECCION\n",
    "# def probabilidadInterseccion(set1, set2):\n",
    "    # interseccion = set1.insersection(set2)\n",
    "    # prob = len(interseccion)/min()\n",
    "\n",
    "\n",
    "# LLAMADA A FUNCION PARA CREAR BARAJA\n",
    "baraja = crearBarajaPoker()\n",
    "\n",
    "# LLAMADA PARA CREAR SETS(MANOS) DE POKER\n",
    "A, B = crearManoPoker(baraja)\n",
    "\n",
    "\n",
    "# CALCULO DE PROBABILIDADES\n",
    "probA = len(A)/len(baraja)\n",
    "probB = len(B)/len(baraja)\n",
    "\n",
    "# Interseccion\n",
    "interseccion = list(A.intersection(B))\n",
    "\n",
    "probInterseccion = round(len(interseccion)/len(baraja),2)\n",
    "probIndependientes = round(probA * probB,2)\n",
    "independientes = 'son' if probInterseccion == probIndependientes else 'no son'\n",
    "\n",
    "print(f\"P(A ∩ B) = {probInterseccion}\")\n",
    "print(f\"P(A)P(B) = {probIndependientes}\")\n",
    "print(f\"Por lo tanto, {independientes} eventos independientes\\n\")\n",
    "\n",
    "# Union \n",
    "union = list(A.union(B))\n",
    "probUnion = round(len(union)/len(baraja),2)\n",
    "adicion = round(probA + probB - probInterseccion,2)\n",
    "reglaAdicion = 'si' if probUnion == adicion else 'no'\n",
    "\n",
    "print(f\"P(A ∪ B) = {probUnion}\")\n",
    "print(f\"P(A) + P(B) = {adicion}\")\n",
    "print(f\"Por lo tanto, {reglaAdicion} se cumple la regla de la adición\\n\")\n",
    "\n"
   ]
  },
  {
   "cell_type": "code",
   "execution_count": null,
   "id": "6de3c83d-9feb-46db-b789-064c2cd8c2bf",
   "metadata": {},
   "outputs": [],
   "source": []
  }
 ],
 "metadata": {
  "kernelspec": {
   "display_name": "Python 3 (ipykernel)",
   "language": "python",
   "name": "python3"
  },
  "language_info": {
   "codemirror_mode": {
    "name": "ipython",
    "version": 3
   },
   "file_extension": ".py",
   "mimetype": "text/x-python",
   "name": "python",
   "nbconvert_exporter": "python",
   "pygments_lexer": "ipython3",
   "version": "3.11.5"
  }
 },
 "nbformat": 4,
 "nbformat_minor": 5
}
